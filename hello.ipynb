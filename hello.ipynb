{
 "cells": [
  {
   "cell_type": "markdown",
   "metadata": {},
   "source": [
    "# Rendu 3"
   ]
  },
  {
   "cell_type": "code",
   "execution_count": 10,
   "metadata": {},
   "outputs": [
    {
     "data": {
      "text/plain": [
       "Hello MITD !"
      ]
     },
     "execution_count": 10,
     "metadata": {},
     "output_type": "execute_result"
    }
   ],
   "source": [
    "String message = \"Hello\";\n",
    "\n",
    "message + \" MITD !\""
   ]
  },
  {
   "cell_type": "code",
   "execution_count": 11,
   "metadata": {},
   "outputs": [
    {
     "name": "stdout",
     "output_type": "stream",
     "text": [
      "How many Stylos at €1.20 ?\n"
     ]
    },
    {
     "name": "stdout",
     "output_type": "stream",
     "text": [
      "How many Cahier à €3.50 ?\n",
      "+---------------+---------+-----+----------+\n",
      "| Product       | € Unit  | Qty |   price  |\n",
      "+---------------+---------+-----+----------+\n",
      "| Stylos        |   1.20€ |   1 |    1.20€ |\n",
      "| Cahier        |   3.50€ |   2 |    7.00€ |\n",
      "+---------------+---------+-----+----------+\n",
      "                                |    8.20€ |\n",
      "                                +----------+\n"
     ]
    }
   ],
   "source": [
    "import java.util.Scanner;\n",
    "\n",
    "Scanner keyboard = new Scanner(System.in);\n",
    "\n",
    "String productName1 = \"Stylos\"; \n",
    "double unitPrice1 = 1.2; \n",
    "\n",
    "System.out.printf(\"How many %s at €%.2f ?\\n\", productName1, unitPrice1);\n",
    "int quantity1 = keyboard.nextInt();\n",
    "\n",
    "String productName2 = \"Cahier\";\n",
    "double unitPrice2 = 3.5;\n",
    "\n",
    "System.out.printf(\"How many %s à €%.2f ?\\n\", productName2, unitPrice2);\n",
    "int quantity2 = keyboard.nextInt();\n",
    "\n",
    "keyboard.close();\n",
    "\n",
    "double total = 0;\n",
    "\n",
    "System.out.println(\"+---------------+---------+-----+----------+\");\n",
    "System.out.println(\"| Product       | € Unit  | Qty |   price  |\");\n",
    "System.out.println(\"+---------------+---------+-----+----------+\");\n",
    "\n",
    "double price1 = unitPrice1 * (double)quantity1;\n",
    "\n",
    "total += price1;\n",
    "System.out.printf(\"| %-13s | %6.2f€ | %3d | %7.2f€ |\\n\", productName1, unitPrice1, quantity1, price1);\n",
    "\n",
    "double price2 = unitPrice2 * (double)quantity2;\n",
    "\n",
    "total += price2;\n",
    "System.out.printf(\"| %-13s | %6.2f€ | %3d | %7.2f€ |\\n\", productName2, unitPrice2, quantity2, price2);\n",
    "\n",
    "System.out.println(\"+---------------+---------+-----+----------+\");\n",
    "System.out.printf(\"                                | %7.2f€ |\\n\", total);\n",
    "System.out.println(\"                                +----------+\");"
   ]
  },
  {
   "cell_type": "markdown",
   "metadata": {},
   "source": [
    "# ETAPE 1\n",
    "## Display Gride"
   ]
  },
  {
   "cell_type": "code",
   "execution_count": 12,
   "metadata": {},
   "outputs": [],
   "source": [
    "void displayGridLine()\n",
    "{\n",
    "    System.out.println(\"+---------------+---------+-----+----------+\");\n",
    "}"
   ]
  },
  {
   "cell_type": "code",
   "execution_count": 13,
   "metadata": {},
   "outputs": [
    {
     "name": "stdout",
     "output_type": "stream",
     "text": [
      "How many Stylos at €1.20 ?\n",
      "How many Cahier à €3.50 ?\n",
      "+---------------+---------+-----+----------+\n",
      "| Product       | € Unit  | Qty |   price  |\n",
      "+---------------+---------+-----+----------+\n",
      "| Stylos        |   1.20€ |   1 |    1.20€ |\n",
      "| Cahier        |   3.50€ |   2 |    7.00€ |\n",
      "+---------------+---------+-----+----------+\n",
      "                                |    8.20€ |\n",
      "                                +----------+\n"
     ]
    }
   ],
   "source": [
    "import java.util.Scanner;\n",
    "\n",
    "Scanner keyboard = new Scanner(System.in);\n",
    "\n",
    "String productName1 = \"Stylos\"; \n",
    "double unitPrice1 = 1.2; \n",
    "\n",
    "System.out.printf(\"How many %s at €%.2f ?\\n\", productName1, unitPrice1);\n",
    "int quantity1 = keyboard.nextInt();\n",
    "\n",
    "String productName2 = \"Cahier\";\n",
    "double unitPrice2 = 3.5;\n",
    "\n",
    "System.out.printf(\"How many %s à €%.2f ?\\n\", productName2, unitPrice2);\n",
    "int quantity2 = keyboard.nextInt();\n",
    "\n",
    "keyboard.close();\n",
    "\n",
    "double total = 0;\n",
    "\n",
    "displayGridLine();\n",
    "System.out.println(\"| Product       | € Unit  | Qty |   price  |\");\n",
    "displayGridLine();\n",
    "\n",
    "double price1 = unitPrice1 * (double)quantity1;\n",
    "\n",
    "total += price1;\n",
    "System.out.printf(\"| %-13s | %6.2f€ | %3d | %7.2f€ |\\n\", productName1, unitPrice1, quantity1, price1);\n",
    "\n",
    "double price2 = unitPrice2 * (double)quantity2;\n",
    "\n",
    "total += price2;\n",
    "System.out.printf(\"| %-13s | %6.2f€ | %3d | %7.2f€ |\\n\", productName2, unitPrice2, quantity2, price2);\n",
    "\n",
    "displayGridLine();\n",
    "System.out.printf(\"                                | %7.2f€ |\\n\", total);\n",
    "System.out.println(\"                                +----------+\");"
   ]
  },
  {
   "cell_type": "markdown",
   "metadata": {},
   "source": [
    "## Header / Footer"
   ]
  },
  {
   "cell_type": "code",
   "execution_count": 14,
   "metadata": {},
   "outputs": [],
   "source": [
    "void displayProductGridHeader()\n",
    "{\n",
    "    displayGridLine();\n",
    "    System.out.println(\"| Product       | € Unit  | Qty |   price  |\");\n",
    "    displayGridLine();\n",
    "}"
   ]
  },
  {
   "cell_type": "code",
   "execution_count": 15,
   "metadata": {},
   "outputs": [],
   "source": [
    "void displayProductGridFooter(double totalCommande)\n",
    "{\n",
    "    displayGridLine();\n",
    "    System.out.printf(\"                                | %7.2f€ |\\n\", totalCommande);\n",
    "    System.out.println(\"                                +----------+\");\n",
    "}"
   ]
  },
  {
   "cell_type": "code",
   "execution_count": 16,
   "metadata": {},
   "outputs": [
    {
     "name": "stdout",
     "output_type": "stream",
     "text": [
      "How many Stylos at €1.20 ?\n",
      "How many Cahier à €3.50 ?\n",
      "+---------------+---------+-----+----------+\n",
      "| Product       | € Unit  | Qty |   price  |\n",
      "+---------------+---------+-----+----------+\n",
      "| Stylos        |   1.20€ |   1 |    1.20€ |\n",
      "| Cahier        |   3.50€ |   3 |   10.50€ |\n",
      "+---------------+---------+-----+----------+\n",
      "                                |   11.70€ |\n",
      "                                +----------+\n"
     ]
    }
   ],
   "source": [
    "import java.util.Scanner;\n",
    "\n",
    "Scanner keyboard = new Scanner(System.in);\n",
    "\n",
    "String productName1 = \"Stylos\"; \n",
    "double unitPrice1 = 1.2; \n",
    "\n",
    "System.out.printf(\"How many %s at €%.2f ?\\n\", productName1, unitPrice1);\n",
    "int quantity1 = keyboard.nextInt();\n",
    "\n",
    "String productName2 = \"Cahier\";\n",
    "double unitPrice2 = 3.5;\n",
    "\n",
    "System.out.printf(\"How many %s à €%.2f ?\\n\", productName2, unitPrice2);\n",
    "int quantity2 = keyboard.nextInt();\n",
    "\n",
    "keyboard.close();\n",
    "\n",
    "double total = 0;\n",
    "\n",
    "displayProductGridHeader();\n",
    "\n",
    "double price1 = unitPrice1 * (double)quantity1;\n",
    "\n",
    "total += price1;\n",
    "System.out.printf(\"| %-13s | %6.2f€ | %3d | %7.2f€ |\\n\", productName1, unitPrice1, quantity1, price1);\n",
    "\n",
    "double price2 = unitPrice2 * (double)quantity2;\n",
    "\n",
    "total += price2;\n",
    "System.out.printf(\"| %-13s | %6.2f€ | %3d | %7.2f€ |\\n\", productName2, unitPrice2, quantity2, price2);\n",
    "\n",
    "displayProductGridFooter(total);"
   ]
  },
  {
   "cell_type": "markdown",
   "metadata": {},
   "source": [
    "# ETAPE 2\n",
    "## Eviter repetition"
   ]
  },
  {
   "cell_type": "code",
   "execution_count": 17,
   "metadata": {},
   "outputs": [],
   "source": [
    "import java.util.Scanner;\n",
    "\n",
    "Scanner keyboard = new Scanner(System.in);\n",
    "\n",
    "int inputProductQuantity(Scanner keyboard, String productName, double unitPrice)\n",
    "{\n",
    "    System.out.printf(\"How many %s at €%.2f ?\\n\", productName, unitPrice);\n",
    "    int ProductQuantity = keyboard.nextInt();\n",
    "    return ProductQuantity;\n",
    "}"
   ]
  },
  {
   "cell_type": "code",
   "execution_count": 18,
   "metadata": {},
   "outputs": [
    {
     "name": "stdout",
     "output_type": "stream",
     "text": [
      "How many Stylos at €1.20 ?\n"
     ]
    },
    {
     "name": "stdout",
     "output_type": "stream",
     "text": [
      "How many Cahier at €3.50 ?\n",
      "+---------------+---------+-----+----------+\n",
      "| Product       | € Unit  | Qty |   price  |\n",
      "+---------------+---------+-----+----------+\n",
      "| Stylos        |   1.20€ |   1 |    1.20€ |\n",
      "| Cahier        |   3.50€ |   3 |   10.50€ |\n",
      "+---------------+---------+-----+----------+\n",
      "                                |   11.70€ |\n",
      "                                +----------+\n"
     ]
    }
   ],
   "source": [
    "import java.util.Scanner;\n",
    "\n",
    "Scanner keyboard = new Scanner(System.in);\n",
    "\n",
    "String productName1 = \"Stylos\"; \n",
    "double unitPrice1 = 1.2; \n",
    "\n",
    "int quantity1 = inputProductQuantity(keyboard, productName1, unitPrice1);\n",
    "\n",
    "String productName2 = \"Cahier\";\n",
    "double unitPrice2 = 3.5;\n",
    "\n",
    "int quantity2 = inputProductQuantity(keyboard, productName2, unitPrice2);\n",
    "\n",
    "keyboard.close();\n",
    "\n",
    "double total = 0;\n",
    "\n",
    "displayProductGridHeader();\n",
    "\n",
    "double price1 = unitPrice1 * (double)quantity1;\n",
    "\n",
    "total += price1;\n",
    "System.out.printf(\"| %-13s | %6.2f€ | %3d | %7.2f€ |\\n\", productName1, unitPrice1, quantity1, price1);\n",
    "\n",
    "double price2 = unitPrice2 * (double)quantity2;\n",
    "\n",
    "total += price2;\n",
    "System.out.printf(\"| %-13s | %6.2f€ | %3d | %7.2f€ |\\n\", productName2, unitPrice2, quantity2, price2);\n",
    "\n",
    "displayProductGridFooter(total);"
   ]
  }
 ],
 "metadata": {
  "kernelspec": {
   "display_name": "Java (rjk 2.2.0)",
   "language": "java",
   "name": "rapaio-jupyter-kernel"
  },
  "language_info": {
   "codemirror_mode": "java",
   "file_extension": ".jshell",
   "mimetype": "text/x-java-source",
   "name": "java",
   "nbconvert_exporter": "script",
   "pygments_lexer": "java",
   "version": "21.0.5+11-LTS"
  }
 },
 "nbformat": 4,
 "nbformat_minor": 2
}
